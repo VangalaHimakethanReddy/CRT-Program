{
 "cells": [
  {
   "cell_type": "markdown",
   "metadata": {},
   "source": [
    "# Python\n",
    "## Python\n",
    "### Python"
   ]
  },
  {
   "cell_type": "code",
   "execution_count": 3,
   "metadata": {},
   "outputs": [
    {
     "data": {
      "text/plain": [
       "'C:\\\\Users\\\\SYS-16'"
      ]
     },
     "execution_count": 3,
     "metadata": {},
     "output_type": "execute_result"
    }
   ],
   "source": [
    "pwd"
   ]
  },
  {
   "cell_type": "markdown",
   "metadata": {},
   "source": [
    "### insert a image\n",
    "![text](data:image/jpeg;base64,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)"
   ]
  },
  {
   "cell_type": "markdown",
   "metadata": {},
   "source": [
    "### insert a site\n",
    "[site](https://www.google.com/search?q=image&source=lnms&tbm=isch&sa=X&ved=2ahUKEwi0ut7qzpjmAhXafH0KHQHfB70Q_AUoAXoECA4QAw&biw=1094&bih=506)"
   ]
  },
  {
   "cell_type": "markdown",
   "metadata": {},
   "source": [
    "### for creating ordered list\n",
    "1. abc\n",
    "2. efg\n",
    "  1. A\n",
    "  2. B\n",
    "3. hij\n",
    " 1. c\n",
    "  2. d"
   ]
  },
  {
   "cell_type": "markdown",
   "metadata": {},
   "source": [
    " ### symbols for unordered list\n",
    " abc "
   ]
  },
  {
   "cell_type": "markdown",
   "metadata": {},
   "source": [
    "### \"bold and single\"italic text\n",
    "\"gitam\""
   ]
  },
  {
   "cell_type": "code",
   "execution_count": 1,
   "metadata": {},
   "outputs": [
    {
     "name": "stdout",
     "output_type": "stream",
     "text": [
      "hello world\n"
     ]
    }
   ],
   "source": [
    "print(\"hello world\")"
   ]
  },
  {
   "cell_type": "code",
   "execution_count": 2,
   "metadata": {},
   "outputs": [
    {
     "data": {
      "text/plain": [
       "20"
      ]
     },
     "execution_count": 2,
     "metadata": {},
     "output_type": "execute_result"
    }
   ],
   "source": [
    "# variable creating\n",
    "a = 10\n",
    "b = 10\n",
    "a+b"
   ]
  },
  {
   "cell_type": "code",
   "execution_count": 3,
   "metadata": {},
   "outputs": [
    {
     "name": "stdout",
     "output_type": "stream",
     "text": [
      "universityGitam\n"
     ]
    }
   ],
   "source": [
    "name = \"Gitam\"\n",
    "print(\"university\"+name)"
   ]
  },
  {
   "cell_type": "code",
   "execution_count": 4,
   "metadata": {},
   "outputs": [
    {
     "name": "stdout",
     "output_type": "stream",
     "text": [
      "enter a namepavan\n",
      "enter  the age20\n",
      "my name is pavan my age is 20\n"
     ]
    }
   ],
   "source": [
    "name = input(\"enter a name\")\n",
    "age = int(input(\"enter  the age\"))\n",
    "print (\"my name is\",name,\"my age is\",age)"
   ]
  },
  {
   "cell_type": "markdown",
   "metadata": {},
   "source": [
    "### take two inputs and do the following arithmatic operations\\\n",
    "add ,sub,mul,div"
   ]
  },
  {
   "cell_type": "code",
   "execution_count": 11,
   "metadata": {},
   "outputs": [
    {
     "name": "stdout",
     "output_type": "stream",
     "text": [
      "37\n",
      "-13\n",
      "300\n",
      "0.48\n"
     ]
    }
   ],
   "source": [
    "a = 12\n",
    "b = 25\n",
    "c=a+b\n",
    "d=a-b\n",
    "e=a*b\n",
    "f=a/b\n",
    "print(c)\n",
    "print(d)\n",
    "print(e)\n",
    "print(f)"
   ]
  },
  {
   "cell_type": "markdown",
   "metadata": {},
   "source": [
    "### fundamental datatypes\n",
    "1. int\n",
    "2. float\n",
    "3. complex\n",
    "4. boolean\n",
    "5. string"
   ]
  },
  {
   "cell_type": "code",
   "execution_count": 12,
   "metadata": {},
   "outputs": [
    {
     "name": "stdout",
     "output_type": "stream",
     "text": [
      "<class 'int'> <class 'float'> <class 'complex'>\n"
     ]
    }
   ],
   "source": [
    "a = 10\n",
    "b = 20.05\n",
    "c = 5+5j\n",
    "print(type(a),type(b),type(c))"
   ]
  },
  {
   "cell_type": "code",
   "execution_count": 13,
   "metadata": {},
   "outputs": [
    {
     "name": "stdout",
     "output_type": "stream",
     "text": [
      "(3+4j)\n"
     ]
    }
   ],
   "source": [
    "c = complex(3,4)\n",
    "print(c)"
   ]
  },
  {
   "cell_type": "code",
   "execution_count": 14,
   "metadata": {
    "scrolled": true
   },
   "outputs": [
    {
     "name": "stdout",
     "output_type": "stream",
     "text": [
      "(9+12j)\n",
      "(-3-2j)\n",
      "(-17+51j)\n",
      "(0.6235294117647059+0.10588235294117647j)\n"
     ]
    }
   ],
   "source": [
    "c1 = 3+5j\n",
    "c2 = 6+7j\n",
    "print(c1+c2)\n",
    "print(c1-c2)\n",
    "print(c1*c2)\n",
    "print(c1/c2)"
   ]
  },
  {
   "cell_type": "code",
   "execution_count": 15,
   "metadata": {},
   "outputs": [
    {
     "data": {
      "text/plain": [
       "False"
      ]
     },
     "execution_count": 15,
     "metadata": {},
     "output_type": "execute_result"
    }
   ],
   "source": [
    "a = 10\n",
    "b = 10.009\n",
    "a>b"
   ]
  },
  {
   "cell_type": "code",
   "execution_count": 16,
   "metadata": {},
   "outputs": [
    {
     "name": "stdout",
     "output_type": "stream",
     "text": [
      "<class 'str'> <class 'str'>\n"
     ]
    }
   ],
   "source": [
    "s1 = \"abc\"\n",
    "s2 = \"xyz\"\n",
    "print(type(s1),type(s2))\n"
   ]
  },
  {
   "cell_type": "code",
   "execution_count": 22,
   "metadata": {},
   "outputs": [
    {
     "name": "stdout",
     "output_type": "stream",
     "text": [
      "<class 'str'>\n",
      "<class 'int'>\n",
      "<class 'int'>\n",
      "1\n"
     ]
    }
   ],
   "source": [
    "s1 = \"100\"\n",
    "print(type(s1))\n",
    "a = int(s1)\n",
    "print(type(a))\n",
    "f = 1.5\n",
    "a1 = int(f)\n",
    "print(type(a1))\n",
    "print(a1)"
   ]
  },
  {
   "cell_type": "code",
   "execution_count": 24,
   "metadata": {},
   "outputs": [
    {
     "name": "stdout",
     "output_type": "stream",
     "text": [
      "4\n"
     ]
    }
   ],
   "source": [
    "a1 = 1234\n",
    "print(len(str(a1)))"
   ]
  },
  {
   "cell_type": "markdown",
   "metadata": {},
   "source": [
    "### operators\n",
    "1. arithematic operatorts --> +,-,*,%,//,**\n",
    "2. logical operators --> and,or,not\n",
    "3. relational operators --> <,>,<=,>=,==,!=\n",
    "4. Membership operators --> in,not in"
   ]
  },
  {
   "cell_type": "code",
   "execution_count": 25,
   "metadata": {},
   "outputs": [
    {
     "name": "stdout",
     "output_type": "stream",
     "text": [
      "33\n",
      "-9\n",
      "252\n",
      "12\n",
      "0.5714285714285714\n",
      "0\n",
      "46005119909369701466112\n"
     ]
    }
   ],
   "source": [
    "n1 = 12\n",
    "n2 = 21\n",
    "print(n1+n2)\n",
    "print(n1-n2)\n",
    "print(n1*n2)\n",
    "print(n1%n2)\n",
    "print(n1/n2)\n",
    "print(n1//n2)\n",
    "print(n1**n2)"
   ]
  },
  {
   "cell_type": "code",
   "execution_count": 30,
   "metadata": {},
   "outputs": [
    {
     "data": {
      "text/plain": [
       "1000"
      ]
     },
     "execution_count": 30,
     "metadata": {},
     "output_type": "execute_result"
    }
   ],
   "source": [
    "10**3"
   ]
  },
  {
   "cell_type": "code",
   "execution_count": 31,
   "metadata": {},
   "outputs": [
    {
     "name": "stdout",
     "output_type": "stream",
     "text": [
      "False\n",
      "False\n",
      "True\n",
      "True\n"
     ]
    }
   ],
   "source": [
    "# relational operators\n",
    "print(n1==n2)\n",
    "print(n1>n2)\n",
    "print(n1!=n2)\n",
    "print(n1<n2)"
   ]
  },
  {
   "cell_type": "code",
   "execution_count": 37,
   "metadata": {},
   "outputs": [
    {
     "name": "stdout",
     "output_type": "stream",
     "text": [
      "a\n",
      "b\n"
     ]
    }
   ],
   "source": [
    "print('a\\nb')"
   ]
  },
  {
   "cell_type": "code",
   "execution_count": 38,
   "metadata": {},
   "outputs": [
    {
     "name": "stdout",
     "output_type": "stream",
     "text": [
      "False\n"
     ]
    }
   ],
   "source": [
    "a = 10\n",
    "b = 10\n",
    "print(a!=b)"
   ]
  },
  {
   "cell_type": "code",
   "execution_count": 2,
   "metadata": {},
   "outputs": [
    {
     "name": "stdout",
     "output_type": "stream",
     "text": [
      "True\n",
      "True\n",
      "False\n"
     ]
    }
   ],
   "source": [
    "# logical operators\n",
    "n1 = 12\n",
    "n2 = 21\n",
    "print(n1>=9 and n1<=15)\n",
    "print(n1>=9 or n1<=11)\n",
    "print(not n1)"
   ]
  },
  {
   "cell_type": "markdown",
   "metadata": {},
   "source": [
    "### Problem on relational operators\n",
    "take two integer numbers and do the following operations\n",
    "<,>,==,!=,<=,>="
   ]
  },
  {
   "cell_type": "markdown",
   "metadata": {},
   "source": [
    "### Membership operators\n",
    "    in -- if value is found in sequence..\n",
    "    not in --if value is not found in sequence"
   ]
  },
  {
   "cell_type": "code",
   "execution_count": 1,
   "metadata": {},
   "outputs": [
    {
     "name": "stdout",
     "output_type": "stream",
     "text": [
      "True\n",
      "False\n",
      "False\n",
      "True\n"
     ]
    }
   ],
   "source": [
    "f = [1,2,3,4]\n",
    "print(1 in f)\n",
    "print(5 in f)\n",
    "print(2 not in f)\n",
    "print(6 not in f)"
   ]
  },
  {
   "cell_type": "markdown",
   "metadata": {},
   "source": [
    "### Conditional statements\n",
    "1. if\n",
    "2. else\n",
    "3. elif\n",
    "### Syntax:\n",
    "#### if condition:\n",
    "         statements\n",
    "#### else:\n",
    "         statements"
   ]
  },
  {
   "cell_type": "markdown",
   "metadata": {},
   "source": [
    "TO check even or odd"
   ]
  },
  {
   "cell_type": "code",
   "execution_count": 6,
   "metadata": {},
   "outputs": [
    {
     "name": "stdout",
     "output_type": "stream",
     "text": [
      "enter a number5\n",
      "odd\n"
     ]
    }
   ],
   "source": [
    "n = int(input(\"enter a number\"))\n",
    "if n%2 == 0:\n",
    "   print(\"even\")\n",
    "else :\n",
    "     print(\"odd\")\n"
   ]
  },
  {
   "cell_type": "markdown",
   "metadata": {},
   "source": [
    "To check given number is multiple of 3 and 5"
   ]
  },
  {
   "cell_type": "code",
   "execution_count": 13,
   "metadata": {},
   "outputs": [
    {
     "name": "stdout",
     "output_type": "stream",
     "text": [
      "enter a number20\n",
      "no\n"
     ]
    }
   ],
   "source": [
    "n = int(input(\"enter a number\"))\n",
    "if n%3 == 0 and n%5 == 0:\n",
    "    print(\"yes\")\n",
    "else :\n",
    "     print(\"no\")       "
   ]
  },
  {
   "cell_type": "markdown",
   "metadata": {},
   "source": [
    "Check the number is +ve ,-ve ,0"
   ]
  },
  {
   "cell_type": "code",
   "execution_count": 18,
   "metadata": {},
   "outputs": [
    {
     "name": "stdout",
     "output_type": "stream",
     "text": [
      "enter a number0\n",
      "zero\n"
     ]
    }
   ],
   "source": [
    "n = int(input(\"enter a number\"))\n",
    "if n>0:\n",
    "    print(\"positive\")\n",
    "elif n<0:\n",
    "     print(\"negative\")\n",
    "else :\n",
    "     print(\"zero\")"
   ]
  },
  {
   "cell_type": "code",
   "execution_count": 24,
   "metadata": {},
   "outputs": [
    {
     "name": "stdout",
     "output_type": "stream",
     "text": [
      "enter the number2016\n",
      "leap year\n"
     ]
    }
   ],
   "source": [
    "# leap year\n",
    "n = int(input(\"enter the number\"))\n",
    "if n%4 == 0:\n",
    "       print(\"leap year\")\n",
    "else :\n",
    "     print(\"not a leap year\")"
   ]
  },
  {
   "cell_type": "code",
   "execution_count": 1,
   "metadata": {},
   "outputs": [
    {
     "name": "stdout",
     "output_type": "stream",
     "text": [
      "enter a number10\n",
      "1 2 3 4 5 6 7 8 9 10 "
     ]
    }
   ],
   "source": [
    "# print numbers from 1 to n\n",
    "n = int(input(\"enter a number\"))\n",
    "i = 1\n",
    "while i<=n:\n",
    "     print(i,end=\" \")\n",
    "     i =i+1"
   ]
  },
  {
   "cell_type": "code",
   "execution_count": 2,
   "metadata": {},
   "outputs": [
    {
     "name": "stdout",
     "output_type": "stream",
     "text": [
      "enter a number10\n",
      "30\n"
     ]
    }
   ],
   "source": [
    "# read a number\n",
    "#output should be sum of even numbers from 1 to n\n",
    "n = int(input(\"enter a number\"))\n",
    "i = 1\n",
    "s = 0\n",
    "while i <= n:\n",
    "    if i % 2 == 0:\n",
    "        s = s+i\n",
    "    i = i + 1\n",
    "print(s)    "
   ]
  },
  {
   "cell_type": "code",
   "execution_count": null,
   "metadata": {},
   "outputs": [],
   "source": []
  }
 ],
 "metadata": {
  "kernelspec": {
   "display_name": "Python 3",
   "language": "python",
   "name": "python3"
  },
  "language_info": {
   "codemirror_mode": {
    "name": "ipython",
    "version": 3
   },
   "file_extension": ".py",
   "mimetype": "text/x-python",
   "name": "python",
   "nbconvert_exporter": "python",
   "pygments_lexer": "ipython3",
   "version": "3.7.0"
  }
 },
 "nbformat": 4,
 "nbformat_minor": 2
}
